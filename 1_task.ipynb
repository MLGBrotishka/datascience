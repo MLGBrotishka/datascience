{
  "cells": [
    {
      "cell_type": "markdown",
      "id": "caec52ff",
      "metadata": {
        "id": "caec52ff"
      },
      "source": [
        "# Самостоятельное задание\n",
        "\n",
        "Мы предлагаем вам потренироваться c логическими и побитовыми операторами."
      ]
    },
    {
      "cell_type": "code",
      "execution_count": 1,
      "id": "7fe7e97e",
      "metadata": {
        "id": "7fe7e97e"
      },
      "outputs": [],
      "source": [
        "a = True\n",
        "\n",
        "b = False"
      ]
    },
    {
      "cell_type": "markdown",
      "id": "06c53579",
      "metadata": {
        "id": "06c53579"
      },
      "source": [
        "**Решите:**\n",
        "\n",
        "1. a and b\n",
        "\n",
        "2. (a and b) or b\n",
        "\n",
        "3. (a and b) or not (a and b)\n",
        "\n",
        "4. a and b or not (a or b) or b\n",
        "\n",
        "5. b and b or not a and (a or b or a) or not (a or b)\n",
        "\n",
        "6. 1 << 2\n",
        "\n",
        "7. 1 & 0 | 1 >> 1\n",
        "\n",
        "8. 1 & 0 | 1 >> 0\n",
        "\n",
        "9. 0b101 & 0b111 ^ 0b111 | 0b010  Комментарий: \"0b101\" - запись числа \"5\" на языке Python в двоичном виде "
      ]
    },
    {
      "cell_type": "code",
      "source": [
        "a and b"
      ],
      "metadata": {
        "colab": {
          "base_uri": "https://localhost:8080/"
        },
        "id": "Xb0NHNnU0pqx",
        "outputId": "c96298f1-c543-4700-f181-195847d4eeec"
      },
      "id": "Xb0NHNnU0pqx",
      "execution_count": 2,
      "outputs": [
        {
          "output_type": "execute_result",
          "data": {
            "text/plain": [
              "False"
            ]
          },
          "metadata": {},
          "execution_count": 2
        }
      ]
    },
    {
      "cell_type": "code",
      "source": [
        "(a and b) or b"
      ],
      "metadata": {
        "colab": {
          "base_uri": "https://localhost:8080/"
        },
        "id": "N_7ADtCg0ryv",
        "outputId": "01873325-4ddf-4912-c7c4-ca94079216d2"
      },
      "id": "N_7ADtCg0ryv",
      "execution_count": 3,
      "outputs": [
        {
          "output_type": "execute_result",
          "data": {
            "text/plain": [
              "False"
            ]
          },
          "metadata": {},
          "execution_count": 3
        }
      ]
    },
    {
      "cell_type": "code",
      "source": [
        "(a and b) or not (a and b)"
      ],
      "metadata": {
        "colab": {
          "base_uri": "https://localhost:8080/"
        },
        "id": "zC44pt-s01uJ",
        "outputId": "3af03a44-2fa3-4657-f6b5-3fb2439e1fc9"
      },
      "id": "zC44pt-s01uJ",
      "execution_count": 4,
      "outputs": [
        {
          "output_type": "execute_result",
          "data": {
            "text/plain": [
              "True"
            ]
          },
          "metadata": {},
          "execution_count": 4
        }
      ]
    },
    {
      "cell_type": "code",
      "source": [
        "a and b or not (a or b) or b"
      ],
      "metadata": {
        "colab": {
          "base_uri": "https://localhost:8080/"
        },
        "id": "GQb2ktpP05GC",
        "outputId": "89976048-91ac-40d2-a49b-23bd9cb891ce"
      },
      "id": "GQb2ktpP05GC",
      "execution_count": 5,
      "outputs": [
        {
          "output_type": "execute_result",
          "data": {
            "text/plain": [
              "False"
            ]
          },
          "metadata": {},
          "execution_count": 5
        }
      ]
    },
    {
      "cell_type": "code",
      "source": [
        "b and b or not a and (a or b or a) or not (a or b)"
      ],
      "metadata": {
        "colab": {
          "base_uri": "https://localhost:8080/"
        },
        "id": "8u-Su5N406cc",
        "outputId": "d8fbf248-c3cd-4034-8e10-b3c0d5013c4b"
      },
      "id": "8u-Su5N406cc",
      "execution_count": 6,
      "outputs": [
        {
          "output_type": "execute_result",
          "data": {
            "text/plain": [
              "False"
            ]
          },
          "metadata": {},
          "execution_count": 6
        }
      ]
    },
    {
      "cell_type": "code",
      "source": [
        "1 << 2"
      ],
      "metadata": {
        "colab": {
          "base_uri": "https://localhost:8080/"
        },
        "id": "A7dSRuFR1I5c",
        "outputId": "95bd0aa4-8835-458e-e8e4-9f3cc70119b2"
      },
      "id": "A7dSRuFR1I5c",
      "execution_count": 7,
      "outputs": [
        {
          "output_type": "execute_result",
          "data": {
            "text/plain": [
              "4"
            ]
          },
          "metadata": {},
          "execution_count": 7
        }
      ]
    },
    {
      "cell_type": "code",
      "source": [
        "1 & 0 | 1 >> 1"
      ],
      "metadata": {
        "colab": {
          "base_uri": "https://localhost:8080/"
        },
        "id": "DvCXFZ7p1OPz",
        "outputId": "15d86b55-3e95-482a-f9c2-69d3e718fabc"
      },
      "id": "DvCXFZ7p1OPz",
      "execution_count": 8,
      "outputs": [
        {
          "output_type": "execute_result",
          "data": {
            "text/plain": [
              "0"
            ]
          },
          "metadata": {},
          "execution_count": 8
        }
      ]
    },
    {
      "cell_type": "code",
      "source": [
        "1 & 0 | 1 >> 0"
      ],
      "metadata": {
        "colab": {
          "base_uri": "https://localhost:8080/"
        },
        "id": "qwn2XPug1SZr",
        "outputId": "4643dd3f-8957-4f8a-ea9f-b75745a413f1"
      },
      "id": "qwn2XPug1SZr",
      "execution_count": 9,
      "outputs": [
        {
          "output_type": "execute_result",
          "data": {
            "text/plain": [
              "1"
            ]
          },
          "metadata": {},
          "execution_count": 9
        }
      ]
    },
    {
      "cell_type": "code",
      "source": [
        "0b101 & 0b111 ^ 0b111 | 0b010"
      ],
      "metadata": {
        "colab": {
          "base_uri": "https://localhost:8080/"
        },
        "id": "71w_UqdG1Xnb",
        "outputId": "fe054631-dabd-46eb-e96a-adbbb1ea134f"
      },
      "id": "71w_UqdG1Xnb",
      "execution_count": 10,
      "outputs": [
        {
          "output_type": "execute_result",
          "data": {
            "text/plain": [
              "2"
            ]
          },
          "metadata": {},
          "execution_count": 10
        }
      ]
    }
  ],
  "metadata": {
    "kernelspec": {
      "display_name": "Python 3",
      "language": "python",
      "name": "python3"
    },
    "language_info": {
      "codemirror_mode": {
        "name": "ipython",
        "version": 3
      },
      "file_extension": ".py",
      "mimetype": "text/x-python",
      "name": "python",
      "nbconvert_exporter": "python",
      "pygments_lexer": "ipython3",
      "version": "3.9.6"
    },
    "colab": {
      "provenance": []
    }
  },
  "nbformat": 4,
  "nbformat_minor": 5
}