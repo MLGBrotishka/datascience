{
  "cells": [
    {
      "cell_type": "markdown",
      "id": "246424fe",
      "metadata": {
        "id": "246424fe"
      },
      "source": [
        "# Самостоятельная работа #2\n",
        "### Задание 1\n",
        "\n",
        "Допишите функцию, которая принимает 2 числа, сравнивает между собой и возвращает наименьшее."
      ]
    },
    {
      "cell_type": "code",
      "execution_count": 1,
      "id": "1b225d18",
      "metadata": {
        "id": "1b225d18"
      },
      "outputs": [],
      "source": [
        "def min2(a,b):\n",
        "  return min(a,b)"
      ]
    },
    {
      "cell_type": "markdown",
      "id": "9342d85f",
      "metadata": {
        "id": "9342d85f"
      },
      "source": [
        "### Задание 2\n",
        "\n",
        "Допишите функцию, которая принимает 3 числа, сравнивает между собой и возвращает наименьшее."
      ]
    },
    {
      "cell_type": "code",
      "execution_count": 4,
      "id": "5371aa95",
      "metadata": {
        "id": "5371aa95"
      },
      "outputs": [],
      "source": [
        "def min3(a,b,c):\n",
        "  return min(a,b,c)"
      ]
    },
    {
      "cell_type": "markdown",
      "id": "9ef85dfd",
      "metadata": {
        "id": "9ef85dfd"
      },
      "source": [
        "### Задание 2\n",
        "\n",
        "Допишите функцию, которая принимает 3 числа, сравнивает между собой и возвращает количество совпадающих чисел. Соответственно, программа может возвращать одно из трех чисел: 3 - если совпадают все, 2 - если совпадают 2 числа, 0 - если все числа различны."
      ]
    },
    {
      "cell_type": "code",
      "execution_count": 6,
      "id": "ec6a169c",
      "metadata": {
        "id": "ec6a169c"
      },
      "outputs": [],
      "source": [
        "def cmp3(a,b,c):\n",
        "  if a==b==c:\n",
        "    return 3\n",
        "  if a==b or b==c or a==c:\n",
        "    return 2\n",
        "  return 0"
      ]
    }
  ],
  "metadata": {
    "kernelspec": {
      "display_name": "Python 3",
      "language": "python",
      "name": "python3"
    },
    "language_info": {
      "codemirror_mode": {
        "name": "ipython",
        "version": 3
      },
      "file_extension": ".py",
      "mimetype": "text/x-python",
      "name": "python",
      "nbconvert_exporter": "python",
      "pygments_lexer": "ipython3",
      "version": "3.9.6"
    },
    "colab": {
      "provenance": []
    }
  },
  "nbformat": 4,
  "nbformat_minor": 5
}