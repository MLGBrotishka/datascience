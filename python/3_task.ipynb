{
  "cells": [
    {
      "cell_type": "markdown",
      "id": "657be689",
      "metadata": {
        "id": "657be689"
      },
      "source": [
        "# Самостоятельное задание #3\n",
        "\n",
        "\n",
        "### Задание 1\n",
        "\n",
        "Допишите функцию, которая принимает массив из 10 чисел и возвращает их сумму."
      ]
    },
    {
      "cell_type": "code",
      "execution_count": 1,
      "id": "18ffcbab",
      "metadata": {
        "id": "18ffcbab"
      },
      "outputs": [],
      "source": [
        "def sum10(a):\n",
        "  return sum(a)"
      ]
    },
    {
      "cell_type": "markdown",
      "id": "eb78afc0",
      "metadata": {
        "id": "eb78afc0"
      },
      "source": [
        "\n",
        "### Задание 2\n",
        "\n",
        "Допишите функцию, которая принимает массив чисел и возвращает количество чисел равных нулю."
      ]
    },
    {
      "cell_type": "code",
      "execution_count": 3,
      "id": "7e8fe536",
      "metadata": {
        "id": "7e8fe536"
      },
      "outputs": [],
      "source": [
        "def coun0(a):\n",
        "  return a.count(0)"
      ]
    },
    {
      "cell_type": "markdown",
      "id": "570d5a26",
      "metadata": {
        "id": "570d5a26"
      },
      "source": [
        "\n",
        "### Задание 3\n",
        "\n",
        "Напишите программу, в которой задается  натуральное число n и выводится лестница из n ступенек, i-я ступенька должна состоять из чисел от 1 до i без пробелов."
      ]
    },
    {
      "cell_type": "code",
      "execution_count": 21,
      "id": "69fd0501",
      "metadata": {
        "id": "69fd0501"
      },
      "outputs": [],
      "source": [
        "def led1(n):\n",
        "  for i in range(1,n+1):\n",
        "    for a in range(1,i+1):\n",
        "      print(a,end=\"\")\n",
        "    print()"
      ]
    },
    {
      "cell_type": "markdown",
      "id": "b6ef1c44",
      "metadata": {
        "id": "b6ef1c44"
      },
      "source": [
        "\n",
        "### Задание 4\n",
        "\n",
        "Напишите программу, в которой задается натуральное число n и выводится пирамида из n ступенек, i-я ступень должна состоять из чисел от 1 до i и обратно без пробелов."
      ]
    },
    {
      "cell_type": "code",
      "execution_count": 38,
      "id": "6b038f87",
      "metadata": {
        "id": "6b038f87"
      },
      "outputs": [],
      "source": [
        "def led2(n):\n",
        "  for i in range(1,n+1):\n",
        "    for a in range(1,i+1):\n",
        "      print(a,end=\"\")\n",
        "    for b in range(i-1,0,-1):\n",
        "      print(b,end=\"\")\n",
        "    print()"
      ]
    },
    {
      "cell_type": "code",
      "source": [
        "led2(3)"
      ],
      "metadata": {
        "id": "6a-OQyPPNtPz",
        "outputId": "642bae69-5b27-445d-fa0e-d541d04aa39b",
        "colab": {
          "base_uri": "https://localhost:8080/"
        }
      },
      "id": "6a-OQyPPNtPz",
      "execution_count": 40,
      "outputs": [
        {
          "output_type": "stream",
          "name": "stdout",
          "text": [
            "1\n",
            "121\n",
            "12321\n"
          ]
        }
      ]
    },
    {
      "cell_type": "markdown",
      "id": "b4552ef5",
      "metadata": {
        "id": "b4552ef5"
      },
      "source": [
        "\n",
        "### Задание 5\n",
        "\n",
        "Напишите программу, в которой задается натуральное число n и выводится ромб из `n*2-1` ступенек, i-я ступень должна состоять из чисел от 1 до i и обратно без пробелов."
      ]
    },
    {
      "cell_type": "code",
      "execution_count": null,
      "id": "5eaae897",
      "metadata": {
        "id": "5eaae897"
      },
      "outputs": [],
      "source": [
        "# Начните писать код тут"
      ]
    }
  ],
  "metadata": {
    "kernelspec": {
      "display_name": "Python 3",
      "language": "python",
      "name": "python3"
    },
    "language_info": {
      "codemirror_mode": {
        "name": "ipython",
        "version": 3
      },
      "file_extension": ".py",
      "mimetype": "text/x-python",
      "name": "python",
      "nbconvert_exporter": "python",
      "pygments_lexer": "ipython3",
      "version": "3.9.7"
    },
    "colab": {
      "provenance": []
    }
  },
  "nbformat": 4,
  "nbformat_minor": 5
}